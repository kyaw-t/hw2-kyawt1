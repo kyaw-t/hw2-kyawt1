{
 "cells": [
  {
   "cell_type": "markdown",
   "metadata": {},
   "source": [
    "# eight puzzle solver\n",
    "\n",
    "The 8-puzzle is a variation of the classic [15 puzzle](https://en.wikipedia.org/wiki/15_puzzle) with a 3x3 grid\n",
    "\n",
    "This notebook lets you experiment with a simple implementation that provides three subclasses of the AIMA Problem:\n",
    " * P8 : algorithm A with no heuristic; provides a simple breadth first graph search\n",
    " * P8_OOP : Algoritm A with the heuristic of the number of tiles out of place\n",
    " * P8_MHD: Algoritm A with the heuristic of the manhatten distance for each tile to where it should be "
   ]
  },
  {
   "cell_type": "code",
   "execution_count": 1,
   "metadata": {},
   "outputs": [],
   "source": [
    "import p8\n",
    "import search"
   ]
  },
  {
   "cell_type": "markdown",
   "metadata": {},
   "source": [
    "We represent a state as a string of eight digits and a * for the blank"
   ]
  },
  {
   "cell_type": "code",
   "execution_count": 2,
   "metadata": {},
   "outputs": [
    {
     "name": "stdout",
     "output_type": "stream",
     "text": [
      "123\n",
      "4*5\n",
      "678\n",
      "\n"
     ]
    }
   ],
   "source": [
    "initial_state = \"1234*5678\"\n",
    "p8.print_state(initial_state)"
   ]
  },
  {
   "cell_type": "markdown",
   "metadata": {},
   "source": [
    "Generate a goal state that is at most 10 steps away using a random walk.  There may be a way to get to it in fewer than 10 steps, but it will not require more."
   ]
  },
  {
   "cell_type": "code",
   "execution_count": 3,
   "metadata": {},
   "outputs": [
    {
     "name": "stdout",
     "output_type": "stream",
     "text": [
      "*15432678\n"
     ]
    }
   ],
   "source": [
    "goal_state = p8.random_state(initial_state, 10)\n",
    "print(goal_state)"
   ]
  },
  {
   "cell_type": "markdown",
   "metadata": {},
   "source": [
    "find a solution using no heuristic"
   ]
  },
  {
   "cell_type": "code",
   "execution_count": 4,
   "metadata": {},
   "outputs": [],
   "source": [
    "p = p8.P8(initial=initial_state, goal=goal_state)\n",
    "answer = search.astar_search(p)"
   ]
  },
  {
   "cell_type": "markdown",
   "metadata": {},
   "source": [
    "The astar_search funcion performs an algorithm A search.  Since P8 has a no heuristic, it is the equivalent of a simple breadth first graph search. Given a problem, if it finds a solution it returns the an instance of a Node object representing the goal node found.  From this we can find a path back to the initial state."
   ]
  },
  {
   "cell_type": "code",
   "execution_count": 5,
   "metadata": {},
   "outputs": [
    {
     "data": {
      "text/plain": [
       "<Node *15432678>"
      ]
     },
     "execution_count": 5,
     "metadata": {},
     "output_type": "execute_result"
    }
   ],
   "source": [
    "answer"
   ]
  },
  {
   "cell_type": "markdown",
   "metadata": {},
   "source": [
    "We access the state of this node to print it"
   ]
  },
  {
   "cell_type": "code",
   "execution_count": 6,
   "metadata": {},
   "outputs": [
    {
     "name": "stdout",
     "output_type": "stream",
     "text": [
      "*15\n",
      "432\n",
      "678\n",
      "\n"
     ]
    }
   ],
   "source": [
    "p8.print_state(answer.state)"
   ]
  },
  {
   "cell_type": "markdown",
   "metadata": {},
   "source": [
    "A Node's solution() method returns a list of actions staring with the initial state that produced it."
   ]
  },
  {
   "cell_type": "code",
   "execution_count": 8,
   "metadata": {},
   "outputs": [
    {
     "data": {
      "text/plain": [
       "['up', 'right', 'down', 'left', 'up', 'left']"
      ]
     },
     "execution_count": 8,
     "metadata": {},
     "output_type": "execute_result"
    }
   ],
   "source": [
    "answer.solution()"
   ]
  },
  {
   "cell_type": "markdown",
   "metadata": {},
   "source": [
    "A Node's path() method returns a list of the Node instances from the initial to the goal node."
   ]
  },
  {
   "cell_type": "code",
   "execution_count": 10,
   "metadata": {},
   "outputs": [
    {
     "data": {
      "text/plain": [
       "[<Node 1234*5678>,\n",
       " <Node 1*3425678>,\n",
       " <Node 13*425678>,\n",
       " <Node 13542*678>,\n",
       " <Node 1354*2678>,\n",
       " <Node 1*5432678>,\n",
       " <Node *15432678>]"
      ]
     },
     "execution_count": 10,
     "metadata": {},
     "output_type": "execute_result"
    }
   ],
   "source": [
    "answer.path()"
   ]
  },
  {
   "cell_type": "markdown",
   "metadata": {},
   "source": [
    "We can use our custom printsoln() function to print this in a 8-puzzle specific way."
   ]
  },
  {
   "cell_type": "code",
   "execution_count": 11,
   "metadata": {},
   "outputs": [
    {
     "name": "stdout",
     "output_type": "stream",
     "text": [
      "6 steps from 1234*5678 to *15432678\n",
      "None\t123\n",
      "\t4*5\n",
      "\t678\n",
      "\n",
      "up\t1*3\n",
      "\t425\n",
      "\t678\n",
      "\n",
      "right\t13*\n",
      "\t425\n",
      "\t678\n",
      "\n",
      "down\t135\n",
      "\t42*\n",
      "\t678\n",
      "\n",
      "left\t135\n",
      "\t4*2\n",
      "\t678\n",
      "\n",
      "up\t1*5\n",
      "\t432\n",
      "\t678\n",
      "\n",
      "left\t*15\n",
      "\t432\n",
      "\t678\n",
      "\n"
     ]
    }
   ],
   "source": [
    "p8.printsoln(answer)"
   ]
  },
  {
   "cell_type": "markdown",
   "metadata": {},
   "source": [
    "Finally, we can use a custom function to compare the three heuristics on 8-puzzle problems of different difficulty.  Running P8 with the NIL heurostic for a problem needing 18 steps will take between 1 and 2 minutes, but the OOP and MDH heuristics produce solutions quickly."
   ]
  },
  {
   "cell_type": "code",
   "execution_count": 2,
   "metadata": {},
   "outputs": [
    {
     "name": "stdout",
     "output_type": "stream",
     "text": [
      "\n",
      "125*34678 => *12345678 (5 steps from start)\n",
      "heur.\tsteps\tdepth\tstates\tsuccs\tEBF\tseconds\n",
      "NIL\t5\t5\t92\t33\t2.01\t0.00130\n",
      "OOP\t5\t5\t17\t6\t1.43\t0.00019\n",
      "MHD\t5\t5\t15\t5\t1.38\t0.00027\n",
      "\n",
      "*31752468 => *12345678 (10 steps from start)\n",
      "heur.\tsteps\tdepth\tstates\tsuccs\tEBF\tseconds\n",
      "NIL\t10\t10\t1166\t420\t1.83\t0.06007\n",
      "OOP\t10\t10\t55\t19\t1.34\t0.00058\n",
      "MHD\t10\t10\t31\t11\t1.27\t0.00044\n",
      "\n",
      "6*3741852 => *12345678 (15 steps from start)\n",
      "heur.\tsteps\tdepth\tstates\tsuccs\tEBF\tseconds\n",
      "NIL\t15\t15\t14386\t5173\t1.77\t5.64170\n",
      "OOP\t15\t15\t427\t161\t1.40\t0.00769\n",
      "MHD\t15\t15\t38\t15\t1.20\t0.00044\n",
      "\n",
      "1258*3467 => *12345678 (18 steps from start)\n",
      "heur.\tsteps\tdepth\tstates\tsuccs\tEBF\tseconds\n",
      "NIL\t18\t18\t59028\t21355\t1.74\t87.44284\n",
      "OOP\t18\t18\t3324\t1242\t1.49\t0.31968\n",
      "MHD\t18\t18\t490\t184\t1.34\t0.01174\n"
     ]
    }
   ],
   "source": [
    "p8.run_problems(steps=[5,10,15,18])"
   ]
  },
  {
   "cell_type": "markdown",
   "metadata": {},
   "source": [
    "**FIN**"
   ]
  },
  {
   "cell_type": "code",
   "execution_count": null,
   "metadata": {},
   "outputs": [],
   "source": []
  }
 ],
 "metadata": {
  "kernelspec": {
   "display_name": "Python 3",
   "language": "python",
   "name": "python3"
  },
  "language_info": {
   "codemirror_mode": {
    "name": "ipython",
    "version": 3
   },
   "file_extension": ".py",
   "mimetype": "text/x-python",
   "name": "python",
   "nbconvert_exporter": "python",
   "pygments_lexer": "ipython3",
   "version": "3.8.1"
  }
 },
 "nbformat": 4,
 "nbformat_minor": 2
}
